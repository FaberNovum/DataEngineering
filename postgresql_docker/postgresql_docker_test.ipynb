{
 "cells": [
  {
   "cell_type": "markdown",
   "id": "96e64f7b-9ed5-4ed2-9b2d-22b6496f7c0e",
   "metadata": {},
   "source": [
    "---\n",
    "title: \"PostgreSQL in Docker\"\n",
    "format:\n",
    "    pdf:\n",
    "        toc: true\n",
    "        number-section: true\n",
    "        colorlinks: true\n",
    "jupyter: python3\n",
    "---"
   ]
  },
  {
   "cell_type": "markdown",
   "id": "dd79d988-e226-4e22-b3a6-290192761ba6",
   "metadata": {},
   "source": [
    "## Configs"
   ]
  },
  {
   "cell_type": "code",
   "execution_count": 1,
   "id": "25ca2003-474d-4568-8e28-383ce2f8414b",
   "metadata": {},
   "outputs": [],
   "source": [
    "import psycopg2\n",
    "from psycopg2 import sql\n",
    "from psycopg2.extensions import ISOLATION_LEVEL_AUTOCOMMIT # <-- ADD THIS LINE"
   ]
  },
  {
   "cell_type": "markdown",
   "id": "becb37aa-8412-41ad-885f-ed9e6563a6e4",
   "metadata": {},
   "source": [
    "## Docker startup"
   ]
  },
  {
   "cell_type": "code",
   "execution_count": 4,
   "id": "a3037546-ae99-4d61-8706-5a2ed6e034ec",
   "metadata": {},
   "outputs": [
    {
     "name": "stdout",
     "output_type": "stream",
     "text": [
      "eb3d284065f3c947b32f8b91a1f13f4255ff8909f49e6896163dabe1bea73e14\n"
     ]
    }
   ],
   "source": [
    "# ensure Docker is running before executing these commands\n",
    "!docker run --name pg_local -p 5432:5432 -e POSTGRES_USER=sde -e POSTGRES_PASSWORD=password -e POSTGRES_DB=scd2 -d postgres:12.2"
   ]
  },
  {
   "cell_type": "code",
   "execution_count": 5,
   "id": "b8651e57-6ed9-4d93-bc43-fd571db1f821",
   "metadata": {},
   "outputs": [
    {
     "name": "stderr",
     "output_type": "stream",
     "text": [
      "'pgcli' is not recognized as an internal or external command,\n",
      "operable program or batch file.\n"
     ]
    }
   ],
   "source": [
    "# password is password\n",
    "!pgcli -h localhost -p 5432 -U sde scd2"
   ]
  },
  {
   "cell_type": "code",
   "execution_count": 6,
   "id": "2c52d9bb-6920-4d70-b7f6-a309120cf011",
   "metadata": {},
   "outputs": [
    {
     "name": "stdout",
     "output_type": "stream",
     "text": [
      "CONTAINER ID   IMAGE           COMMAND                  CREATED          STATUS          PORTS                    NAMES\n",
      "eb3d284065f3   postgres:12.2   \"docker-entrypoint.s…\"   12 seconds ago   Up 11 seconds   0.0.0.0:5432->5432/tcp   pg_local\n"
     ]
    }
   ],
   "source": [
    "# make sure you have docker running\n",
    "# and your postgresql container running\n",
    "!docker ps"
   ]
  },
  {
   "cell_type": "markdown",
   "id": "e9946e63-23aa-4595-9118-1a72694bfe43",
   "metadata": {},
   "source": [
    "## PostgreSQL config"
   ]
  },
  {
   "cell_type": "code",
   "execution_count": 7,
   "id": "c1d8e79b-640b-4f71-87dd-47c1b8104744",
   "metadata": {},
   "outputs": [],
   "source": [
    "dbname='scd2'\n",
    "user = 'sde'\n",
    "host='localhost:5432'\n",
    "password = 'password'"
   ]
  },
  {
   "cell_type": "code",
   "execution_count": 8,
   "id": "39e36044-8df6-4885-bbd7-ff6e368979c6",
   "metadata": {},
   "outputs": [],
   "source": [
    "connection = psycopg2.connect(f\"dbname={dbname} user={user} password={password}\")"
   ]
  },
  {
   "cell_type": "code",
   "execution_count": 9,
   "id": "cd8f4bdd-f758-4c39-bb9b-2c57f6c9510c",
   "metadata": {},
   "outputs": [],
   "source": [
    "connection.autocommit = True"
   ]
  },
  {
   "cell_type": "code",
   "execution_count": 10,
   "id": "34d81709-dbb4-46a5-8677-d193e977c9ac",
   "metadata": {},
   "outputs": [],
   "source": [
    "cur = connection.cursor()"
   ]
  },
  {
   "cell_type": "code",
   "execution_count": 12,
   "id": "50f8ce13-c337-4c40-b557-af65dad2a6f6",
   "metadata": {},
   "outputs": [],
   "source": [
    "db_version = cur.fetchone()"
   ]
  },
  {
   "cell_type": "code",
   "execution_count": 13,
   "id": "05c62b15-349c-47f5-bb8b-bae72633889f",
   "metadata": {},
   "outputs": [
    {
     "name": "stdout",
     "output_type": "stream",
     "text": [
      "('PostgreSQL 12.2 (Debian 12.2-2.pgdg100+1) on x86_64-pc-linux-gnu, compiled by gcc (Debian 8.3.0-6) 8.3.0, 64-bit',)\n"
     ]
    }
   ],
   "source": [
    "print(db_version)"
   ]
  },
  {
   "cell_type": "markdown",
   "id": "1e5c7ce2-2664-4943-b5b6-4b83c5563f0d",
   "metadata": {},
   "source": [
    "## Test SQL commands"
   ]
  },
  {
   "cell_type": "code",
   "execution_count": 53,
   "id": "9a999fc6-8f16-49e5-bdff-ed3684f33e81",
   "metadata": {},
   "outputs": [],
   "source": [
    "# create test database\n",
    "command = \"\"\"\n",
    "CREATE DATABASE warehouse;\n",
    "\"\"\""
   ]
  },
  {
   "cell_type": "code",
   "execution_count": 54,
   "id": "091157f4-6d9d-49e1-9566-fae4909ad043",
   "metadata": {},
   "outputs": [],
   "source": [
    "cur.execute(command)"
   ]
  },
  {
   "cell_type": "code",
   "execution_count": 16,
   "id": "4d96b2f8-901b-4f14-bcc9-80ab8c4b0405",
   "metadata": {},
   "outputs": [],
   "source": [
    "# create user table and fill it with values\n",
    "user_table_command = \"\"\"\n",
    "DROP TABLE IF EXISTS user_dim;\n",
    "CREATE TABLE user_dim (\n",
    "    user_key BIGINT,\n",
    "    user_id VARCHAR(40),\n",
    "    first_name VARCHAR(10),\n",
    "    last_name VARCHAR(10),\n",
    "    address VARCHAR(100),\n",
    "    zipcode VARCHAR(10),\n",
    "    created_datetime TIMESTAMP,\n",
    "    updated_datetime TIMESTAMP,\n",
    "    row_effective_datetime TIMESTAMP,\n",
    "    row_expiration_datetime TIMESTAMP,\n",
    "    current_row_indicator VARCHAR(10)\n",
    ");\n",
    "INSERT INTO user_dim (\n",
    "        user_key,\n",
    "        user_id,\n",
    "        first_name,\n",
    "        last_name,\n",
    "        address,\n",
    "        zipcode,\n",
    "        created_datetime,\n",
    "        updated_datetime,\n",
    "        row_effective_datetime,\n",
    "        row_expiration_datetime,\n",
    "        current_row_indicator\n",
    "    )\n",
    "VALUES (\n",
    "        1000,\n",
    "        'b0cc9fde-a29a-498e-824f-e52399991beb',\n",
    "        'john',\n",
    "        'doe',\n",
    "        'world',\n",
    "        10027,\n",
    "        '2020-01-01 10:00:00',\n",
    "        '2020-01-01 10:00:00',\n",
    "        ' 2020-01-01 10:00:00',\n",
    "        '2021-01-01 17:59:59',\n",
    "        'expired'\n",
    "    ),\n",
    "    (\n",
    "        1200,\n",
    "        'b0cc9fde-a29a-498e-824f-e52399991beb',\n",
    "        'john',\n",
    "        'doe',\n",
    "        'world',\n",
    "        10012,\n",
    "        '2020-01-01 10:00:00',\n",
    "        '2021-01-01 18:00:00',\n",
    "        '2021-01-01 18:00:00',\n",
    "        '9999-12-31 00:00:00',\n",
    "        'current'\n",
    "    );\n",
    "\"\"\""
   ]
  },
  {
   "cell_type": "code",
   "execution_count": 17,
   "id": "4738a609-6849-4eb4-a6a8-4e402a8a051c",
   "metadata": {},
   "outputs": [],
   "source": [
    "cur.execute(user_table_command)"
   ]
  },
  {
   "cell_type": "markdown",
   "id": "b1d6e7f2-fa98-4172-8131-48a918764931",
   "metadata": {},
   "source": [
    "## Confirm our work"
   ]
  },
  {
   "cell_type": "code",
   "execution_count": 18,
   "id": "548f3298-395c-430f-a684-1d91f70b26c1",
   "metadata": {},
   "outputs": [],
   "source": [
    "# now we check our work\n",
    "select_user_table = \"\"\"\n",
    "select *\n",
    "from user_dim\n",
    "\"\"\""
   ]
  },
  {
   "cell_type": "code",
   "execution_count": 19,
   "id": "025d054f-2494-4603-b69d-43daa949ff60",
   "metadata": {},
   "outputs": [],
   "source": [
    "cur.execute(select_user_table)"
   ]
  },
  {
   "cell_type": "code",
   "execution_count": 20,
   "id": "3b209d27-d1fb-4d56-9f3f-fde960c058e0",
   "metadata": {},
   "outputs": [],
   "source": [
    "records = cur.fetchall()"
   ]
  },
  {
   "cell_type": "code",
   "execution_count": 21,
   "id": "cf4868b6-ea5d-48f7-9b48-a9d734d85a02",
   "metadata": {},
   "outputs": [
    {
     "name": "stdout",
     "output_type": "stream",
     "text": [
      "(1000, 'b0cc9fde-a29a-498e-824f-e52399991beb', 'john', 'doe', 'world', '10027', datetime.datetime(2020, 1, 1, 10, 0), datetime.datetime(2020, 1, 1, 10, 0), datetime.datetime(2020, 1, 1, 10, 0), datetime.datetime(2021, 1, 1, 17, 59, 59), 'expired')\n",
      "(1200, 'b0cc9fde-a29a-498e-824f-e52399991beb', 'john', 'doe', 'world', '10012', datetime.datetime(2020, 1, 1, 10, 0), datetime.datetime(2021, 1, 1, 18, 0), datetime.datetime(2021, 1, 1, 18, 0), datetime.datetime(9999, 12, 31, 0, 0), 'current')\n"
     ]
    }
   ],
   "source": [
    "for row in records:\n",
    "    print(row)"
   ]
  }
 ],
 "metadata": {
  "kernelspec": {
   "display_name": "Python 3 (ipykernel)",
   "language": "python",
   "name": "python3"
  },
  "language_info": {
   "codemirror_mode": {
    "name": "ipython",
    "version": 3
   },
   "file_extension": ".py",
   "mimetype": "text/x-python",
   "name": "python",
   "nbconvert_exporter": "python",
   "pygments_lexer": "ipython3",
   "version": "3.10.11"
  }
 },
 "nbformat": 4,
 "nbformat_minor": 5
}
